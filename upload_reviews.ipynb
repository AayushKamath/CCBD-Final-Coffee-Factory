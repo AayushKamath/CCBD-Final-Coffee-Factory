{
 "cells": [
  {
   "cell_type": "code",
   "execution_count": 13,
   "metadata": {},
   "outputs": [],
   "source": [
    "import json\n",
    "import statistics\n",
    "import boto3\n",
    "from decimal import Decimal"
   ]
  },
  {
   "cell_type": "code",
   "execution_count": 14,
   "metadata": {},
   "outputs": [
    {
     "name": "stdout",
     "output_type": "stream",
     "text": [
      "dynamodb.Table(name='CoffeeShops')\n"
     ]
    }
   ],
   "source": [
    "dynamodb = boto3.resource('dynamodb')\n",
    "table = dynamodb.Table('CoffeeShops')\n",
    "print(table)"
   ]
  },
  {
   "cell_type": "code",
   "execution_count": 15,
   "metadata": {},
   "outputs": [],
   "source": [
    "def analyze(review):\n",
    "    review = review.lower()\n",
    "    coldbrew = ['cold-brew', 'cold brew']\n",
    "    cappuccino = ['cappuccino']\n",
    "    espresso = ['espresso']\n",
    "    service = ['nice', 'friendly', 'service', 'patient']\n",
    "    ambiance = ['study', 'ambiance', 'quite', 'vibe', 'chill']\n",
    "    value = ['worth', 'cheap', 'value', 'price']\n",
    "    filternames = ['coldbrew', 'cappuccino', 'espresso', 'service', 'ambiance', 'value']\n",
    "    filters = [coldbrew, cappuccino, espresso, service, ambiance, value]\n",
    "\n",
    "    counts = {\n",
    "        'coldbrew': 0,\n",
    "        'cappuccino': 0,\n",
    "        'espresso': 0,\n",
    "        'service': 0,\n",
    "        'ambiance': 0,\n",
    "        'value': 0\n",
    "    }\n",
    "\n",
    "    for i in range(len(filters)):\n",
    "        category_count = 0\n",
    "        for keyword in filters[i]:\n",
    "            keyword_count = review.count(keyword)\n",
    "            # print(keyword, keyword_count)\n",
    "            category_count = category_count + keyword_count\n",
    "        # print(\"\\n\")\n",
    "\n",
    "        counts[filternames[i]] = counts[filternames[i]] + category_count\n",
    "        \n",
    "    # print(counts)\n",
    "\n",
    "    return counts"
   ]
  },
  {
   "cell_type": "code",
   "execution_count": 16,
   "metadata": {},
   "outputs": [],
   "source": [
    "import webbrowser\n",
    "import datetime\n",
    "import time\n",
    "import boto3\n",
    "\n",
    "shopDataList = []\n",
    "\n",
    "with open('reviews_nyc.json') as f:\n",
    "    data = json.load(f)\n",
    "    seen_ids = []\n",
    "    for shop in data:\n",
    "        shopId = shop['title']\n",
    "        if shopId in seen_ids:\n",
    "            continue\n",
    "        seen_ids.append(shopId)\n",
    "        shopCid = shop['cid']\n",
    "        address=shop['address']\n",
    "        analysis = { \"cappuccino\" : 0, \"espresso\" : 0, \"ambiance\" : 0, \"coldbrew\" : 0, \"value\" : 0, \"service\" : 0 }\n",
    "        locationInfo = {\"latitude\": shop['location']['lat'], \"longitude\": shop['location']['lng'], \"tags\": []}\n",
    "        reviews = [review for review in shop['reviews'] if review['text'] != None]\n",
    "        numRatings = len(reviews)\n",
    "        avgRating = statistics.mean([review['stars'] for review in reviews])\n",
    "        reviewData = [{'name': review['name'], 'rating': review['stars'], 'userId': review['reviewerId'], 'review': review['text'], 'timestamp': str(time.mktime(datetime.datetime.strptime(review['publishedAtDate'], \"%Y-%m-%dT%H:%M:%S.%fZ\").timetuple()))} for review in reviews]\n",
    "        # print(reviewData)\n",
    "        for review in reviewData:\n",
    "            count = analyze(review['review'])\n",
    "            analysis = {k: count.get(k, 0) + analysis.get(k, 0) for k in set(analysis)}\n",
    "        imageUrl = shop['imageUrls'][0]\n",
    "\n",
    "        \n",
    "        # webbrowser.open(imageUrl)\n",
    "\n",
    "        shopData = {\n",
    "            'shopid': shopId,\n",
    "            'shopname': shopId,\n",
    "            'shopCid': shopCid,\n",
    "            'address': address,\n",
    "            'analysis': analysis,\n",
    "            'locationinfo': locationInfo,\n",
    "            'numrating': numRatings,\n",
    "            'rating': avgRating,\n",
    "            'reviews': reviewData,\n",
    "            'imageOrigUrl': imageUrl\n",
    "        }\n",
    "        shopDataList.append(shopData)\n",
    "        \n",
    "        parsedShopData = json.loads(json.dumps(shopData), parse_float=Decimal)\n",
    "        \n",
    "        # response = table.put_item(Item=parsedShopData)\n",
    "\n"
   ]
  },
  {
   "cell_type": "code",
   "execution_count": 17,
   "metadata": {},
   "outputs": [
    {
     "name": "stdout",
     "output_type": "stream",
     "text": [
      "images/6027150019995756238\n",
      "Image successfully downloaded:  images/6027150019995756238\n",
      "images/3923933014609822664\n",
      "Image successfully downloaded:  images/3923933014609822664\n",
      "images/17109205974731136392\n",
      "Image successfully downloaded:  images/17109205974731136392\n",
      "images/16194238829966024966\n",
      "Image successfully downloaded:  images/16194238829966024966\n",
      "images/2419970586883276967\n",
      "Image successfully downloaded:  images/2419970586883276967\n",
      "images/17058280269791006516\n",
      "Image successfully downloaded:  images/17058280269791006516\n",
      "images/11759132225502559662\n",
      "Image successfully downloaded:  images/11759132225502559662\n",
      "images/5147489099688753640\n",
      "Image successfully downloaded:  images/5147489099688753640\n",
      "images/7405663049912743431\n",
      "Image successfully downloaded:  images/7405663049912743431\n",
      "images/17650561671694508433\n",
      "Image successfully downloaded:  images/17650561671694508433\n",
      "images/4415530143815304736\n",
      "Image successfully downloaded:  images/4415530143815304736\n",
      "images/4148875047957229961\n",
      "Image successfully downloaded:  images/4148875047957229961\n",
      "images/9856758285518493814\n",
      "Image successfully downloaded:  images/9856758285518493814\n",
      "images/15190362872322481999\n",
      "Image successfully downloaded:  images/15190362872322481999\n",
      "images/7232349319319611490\n",
      "Image successfully downloaded:  images/7232349319319611490\n",
      "images/11400105361145117180\n",
      "Image successfully downloaded:  images/11400105361145117180\n",
      "images/9603433232917825900\n",
      "Image successfully downloaded:  images/9603433232917825900\n",
      "images/8778389626880739538\n",
      "Image successfully downloaded:  images/8778389626880739538\n"
     ]
    }
   ],
   "source": [
    "import requests\n",
    "import shutil\n",
    "for shopData in shopDataList:\n",
    "    imgUrl = shopData['imageOrigUrl']\n",
    "    targetFileName = 'images/' + shopData['shopCid']\n",
    "    print(targetFileName)\n",
    "    res = requests.get(imgUrl, stream = True)\n",
    "    if res.status_code==200:\n",
    "        with open(targetFileName, 'wb') as f:\n",
    "            shutil.copyfileobj(res.raw, f)\n",
    "        print('Image successfully downloaded: ', targetFileName)\n",
    "    else:\n",
    "        print('Image couldn\\'t be retrieved')"
   ]
  },
  {
   "cell_type": "code",
   "execution_count": 18,
   "metadata": {},
   "outputs": [
    {
     "name": "stdout",
     "output_type": "stream",
     "text": [
      "https://coffee-photos-bucket.s3.amazonaws.com/6027150019995756238\n",
      "https://coffee-photos-bucket.s3.amazonaws.com/3923933014609822664\n",
      "https://coffee-photos-bucket.s3.amazonaws.com/17109205974731136392\n",
      "https://coffee-photos-bucket.s3.amazonaws.com/16194238829966024966\n",
      "https://coffee-photos-bucket.s3.amazonaws.com/2419970586883276967\n",
      "https://coffee-photos-bucket.s3.amazonaws.com/17058280269791006516\n",
      "https://coffee-photos-bucket.s3.amazonaws.com/11759132225502559662\n",
      "https://coffee-photos-bucket.s3.amazonaws.com/5147489099688753640\n",
      "https://coffee-photos-bucket.s3.amazonaws.com/7405663049912743431\n",
      "https://coffee-photos-bucket.s3.amazonaws.com/17650561671694508433\n",
      "https://coffee-photos-bucket.s3.amazonaws.com/4415530143815304736\n",
      "https://coffee-photos-bucket.s3.amazonaws.com/4148875047957229961\n",
      "https://coffee-photos-bucket.s3.amazonaws.com/9856758285518493814\n",
      "https://coffee-photos-bucket.s3.amazonaws.com/15190362872322481999\n",
      "https://coffee-photos-bucket.s3.amazonaws.com/7232349319319611490\n",
      "https://coffee-photos-bucket.s3.amazonaws.com/11400105361145117180\n",
      "https://coffee-photos-bucket.s3.amazonaws.com/9603433232917825900\n",
      "https://coffee-photos-bucket.s3.amazonaws.com/8778389626880739538\n"
     ]
    }
   ],
   "source": [
    "for shopData in shopDataList:\n",
    "    targetFileName = 'images/' + shopData['shopCid']\n",
    "    s3_client = boto3.client('s3')\n",
    "    response = s3_client.upload_file(targetFileName, 'coffee-photos-bucket', shopData['shopCid'])\n",
    "    shopData['imageUrl'] = 'https://coffee-photos-bucket.s3.amazonaws.com/' + shopData['shopCid']\n",
    "    print(shopData['imageUrl'])"
   ]
  },
  {
   "cell_type": "code",
   "execution_count": 20,
   "metadata": {},
   "outputs": [
    {
     "name": "stdout",
     "output_type": "stream",
     "text": [
      "https://coffee-photos-bucket.s3.amazonaws.com/6027150019995756238\n",
      "https://coffee-photos-bucket.s3.amazonaws.com/3923933014609822664\n",
      "https://coffee-photos-bucket.s3.amazonaws.com/17109205974731136392\n",
      "https://coffee-photos-bucket.s3.amazonaws.com/16194238829966024966\n",
      "https://coffee-photos-bucket.s3.amazonaws.com/2419970586883276967\n",
      "https://coffee-photos-bucket.s3.amazonaws.com/17058280269791006516\n",
      "https://coffee-photos-bucket.s3.amazonaws.com/11759132225502559662\n",
      "https://coffee-photos-bucket.s3.amazonaws.com/5147489099688753640\n",
      "https://coffee-photos-bucket.s3.amazonaws.com/7405663049912743431\n",
      "https://coffee-photos-bucket.s3.amazonaws.com/17650561671694508433\n",
      "https://coffee-photos-bucket.s3.amazonaws.com/4415530143815304736\n",
      "https://coffee-photos-bucket.s3.amazonaws.com/4148875047957229961\n",
      "https://coffee-photos-bucket.s3.amazonaws.com/9856758285518493814\n",
      "https://coffee-photos-bucket.s3.amazonaws.com/15190362872322481999\n",
      "https://coffee-photos-bucket.s3.amazonaws.com/7232349319319611490\n",
      "https://coffee-photos-bucket.s3.amazonaws.com/11400105361145117180\n",
      "https://coffee-photos-bucket.s3.amazonaws.com/9603433232917825900\n",
      "https://coffee-photos-bucket.s3.amazonaws.com/8778389626880739538\n"
     ]
    }
   ],
   "source": [
    "for shopData in shopDataList:\n",
    "    print(shopData['imageUrl'])\n",
    "    parsedShopData = json.loads(json.dumps(shopData), parse_float=Decimal)\n",
    "    response = table.put_item(Item=parsedShopData)"
   ]
  }
 ],
 "metadata": {
  "interpreter": {
   "hash": "31f2aee4e71d21fbe5cf8b01ff0e069b9275f58929596ceb00d14d90e3e16cd6"
  },
  "kernelspec": {
   "display_name": "Python 3.8.9 64-bit",
   "language": "python",
   "name": "python3"
  },
  "language_info": {
   "codemirror_mode": {
    "name": "ipython",
    "version": 3
   },
   "file_extension": ".py",
   "mimetype": "text/x-python",
   "name": "python",
   "nbconvert_exporter": "python",
   "pygments_lexer": "ipython3",
   "version": "3.9.12"
  },
  "orig_nbformat": 4
 },
 "nbformat": 4,
 "nbformat_minor": 2
}
